{
 "cells": [
  {
   "cell_type": "code",
   "execution_count": 25,
   "metadata": {
    "collapsed": true
   },
   "outputs": [],
   "source": [
    "import cv2\n",
    "from glob import glob\n",
    "import os"
   ]
  },
  {
   "cell_type": "code",
   "execution_count": 32,
   "metadata": {},
   "outputs": [],
   "source": [
    "images = glob(\"images/*/*.jpg\",recursive=True)\n",
    "images = [img for img in images if img.find(\"thumb\")==-1]\n",
    "for img in images:\n",
    "    h,w,_ = cv2.imread(img).shape\n",
    "    # =w585-h343-no\n",
    "    os.rename(img, img.replace(\".jpg\",\"=w%d-h%d.jpg\"%(w,h)) )"
   ]
  },
  {
   "cell_type": "code",
   "execution_count": 35,
   "metadata": {},
   "outputs": [
    {
     "data": {
      "text/plain": [
       "['http://localhost:8080/images/esculturas_de_parede/94=w1440-h1080.jpg',\n",
       " 'http://localhost:8080/images/esculturas_de_parede/91=w1440-h1080.jpg',\n",
       " 'http://localhost:8080/images/esculturas_de_parede/90=w1080-h1440.jpg',\n",
       " 'http://localhost:8080/images/esculturas_coloridas/210=w720-h1080.jpg',\n",
       " 'http://localhost:8080/images/esculturas_coloridas/4=w1080-h1920.jpg',\n",
       " 'http://localhost:8080/images/esculturas_coloridas/25=w1080-h1920.jpg',\n",
       " 'http://localhost:8080/images/esculturas_coloridas/56=w1080-h1080.jpg',\n",
       " 'http://localhost:8080/images/esculturas_coloridas/100=w1080-h1440.jpg',\n",
       " 'http://localhost:8080/images/esculturas_coloridas/6=w1080-h1920.jpg',\n",
       " 'http://localhost:8080/images/esculturas_coloridas/95=w810-h1080.jpg',\n",
       " 'http://localhost:8080/images/esculturas_coloridas/70=w807-h1080.jpg',\n",
       " 'http://localhost:8080/images/esculturas_coloridas/145=w1080-h1080.jpg',\n",
       " 'http://localhost:8080/images/esculturas_coloridas/14=w608-h1080.jpg',\n",
       " 'http://localhost:8080/images/esculturas_coloridas/27=w1080-h1920.jpg',\n",
       " 'http://localhost:8080/images/esculturas_coloridas/169=w720-h1080.jpg',\n",
       " 'http://localhost:8080/images/esculturas_coloridas/157=w720-h1080.jpg',\n",
       " 'http://localhost:8080/images/esculturas_coloridas/167=w720-h1080.jpg',\n",
       " 'http://localhost:8080/images/esculturas_coloridas/123=w450-h1080.jpg',\n",
       " 'http://localhost:8080/images/esculturas_coloridas/15=w1080-h1920.jpg',\n",
       " 'http://localhost:8080/images/esculturas_coloridas/83=w536-h1080.jpg',\n",
       " 'http://localhost:8080/images/esculturas_coloridas/168=w720-h1080.jpg',\n",
       " 'http://localhost:8080/images/home/4=w564-h846.jpg',\n",
       " 'http://localhost:8080/images/home/2=w550-h734.jpg',\n",
       " 'http://localhost:8080/images/home/1=w564-h848.jpg',\n",
       " 'http://localhost:8080/images/home/3=w954-h1024.jpg',\n",
       " 'http://localhost:8080/images/bg_paisagem/10=w1821-h1080.jpg',\n",
       " 'http://localhost:8080/images/bg_paisagem/94=w1440-h1080.jpg',\n",
       " 'http://localhost:8080/images/bg_paisagem/19=w1920-h932.jpg',\n",
       " 'http://localhost:8080/images/bg_paisagem/136=w1920-h931.jpg',\n",
       " 'http://localhost:8080/images/bg_paisagem/107=w1920-h969.jpg',\n",
       " 'http://localhost:8080/images/atelie/316=w1668-h2968.jpg',\n",
       " 'http://localhost:8080/images/atelie/318=w3092-h3029.jpg',\n",
       " 'http://localhost:8080/images/atelie/313=w2968-h1668.jpg',\n",
       " 'http://localhost:8080/images/atelie/312=w2988-h5312.jpg',\n",
       " 'http://localhost:8080/images/atelie/315=w3264-h2448.jpg',\n",
       " 'http://localhost:8080/images/atelie/314=w3264-h2448.jpg',\n",
       " 'http://localhost:8080/images/atelie/317=w960-h1280.jpg',\n",
       " 'http://localhost:8080/images/atelie/122=w864-h1080.jpg',\n",
       " 'http://localhost:8080/images/esculturas_aco_corten_ferrugem/164=w720-h1080.jpg',\n",
       " 'http://localhost:8080/images/esculturas_aco_corten_ferrugem/82=w439-h1080.jpg',\n",
       " 'http://localhost:8080/images/esculturas_aco_corten_ferrugem/104=w763-h1080.jpg',\n",
       " 'http://localhost:8080/images/esculturas_aco_corten_ferrugem/97=w810-h1080.jpg',\n",
       " 'http://localhost:8080/images/esculturas_aco_corten_ferrugem/134=w810-h1080.jpg',\n",
       " 'http://localhost:8080/images/esculturas_aco_corten_ferrugem/162=w720-h1080.jpg',\n",
       " 'http://localhost:8080/images/esculturas_aco_corten_ferrugem/122=w864-h1080.jpg',\n",
       " 'http://localhost:8080/images/abstratos_geometricos/10=w1821-h1080.jpg',\n",
       " 'http://localhost:8080/images/abstratos_geometricos/203=w1789-h1080.jpg',\n",
       " 'http://localhost:8080/images/abstratos_geometricos/130=w1920-h1004.jpg',\n",
       " 'http://localhost:8080/images/abstratos_geometricos/205=w989-h1080.jpg',\n",
       " 'http://localhost:8080/images/abstratos_geometricos/20=w1920-h1010.jpg',\n",
       " 'http://localhost:8080/images/abstratos_geometricos/119=w1920-h943.jpg',\n",
       " 'http://localhost:8080/images/abstratos_geometricos/55=w1609-h1080.jpg',\n",
       " 'http://localhost:8080/images/abstratos_geometricos/77=w1920-h963.jpg',\n",
       " 'http://localhost:8080/images/abstratos_geometricos/202=w1674-h1080.jpg',\n",
       " 'http://localhost:8080/images/abstratos_geometricos/302=w960-h640.jpg',\n",
       " 'http://localhost:8080/images/abstratos_geometricos/59=w1687-h1080.jpg',\n",
       " 'http://localhost:8080/images/abstratos_geometricos/138=w1070-h1080.jpg',\n",
       " 'http://localhost:8080/images/abstratos_geometricos/73=w819-h1080.jpg',\n",
       " 'http://localhost:8080/images/abstratos_geometricos/72=w1920-h951.jpg',\n",
       " 'http://localhost:8080/images/abstratos_geometricos/131=w1057-h1080.jpg',\n",
       " 'http://localhost:8080/images/abstratos_geometricos/125=w1920-h1069.jpg',\n",
       " 'http://localhost:8080/images/abstratos_geometricos/19=w1920-h932.jpg',\n",
       " 'http://localhost:8080/images/abstratos_geometricos/66=w1920-h922.jpg',\n",
       " 'http://localhost:8080/images/abstratos_geometricos/120=w743-h1080.jpg',\n",
       " 'http://localhost:8080/images/abstratos_geometricos/301=w2276-h2051.jpg',\n",
       " 'http://localhost:8080/images/abstratos_geometricos/78=w856-h1080.jpg',\n",
       " 'http://localhost:8080/images/abstratos_geometricos/300=w2271-h2050.jpg',\n",
       " 'http://localhost:8080/images/abstratos_geometricos/206=w1920-h937.jpg',\n",
       " 'http://localhost:8080/images/abstratos_geometricos/139=w1077-h1080.jpg',\n",
       " 'http://localhost:8080/images/abstratos_geometricos/204=w929-h1080.jpg',\n",
       " 'http://localhost:8080/images/abstratos_geometricos/132=w1073-h1080.jpg',\n",
       " 'http://localhost:8080/images/abstratos_geometricos/171=w1920-h950.jpg',\n",
       " 'http://localhost:8080/images/abstratos_geometricos/21=w1080-h723.jpg',\n",
       " 'http://localhost:8080/images/abstratos_geometricos/118=w1646-h1080.jpg',\n",
       " 'http://localhost:8080/images/abstratos_geometricos/124=w1840-h1080.jpg',\n",
       " 'http://localhost:8080/images/abstratos_geometricos/0=w1920-h824.jpg',\n",
       " 'http://localhost:8080/images/abstratos_geometricos/116=w1346-h1080.jpg',\n",
       " 'http://localhost:8080/images/abstratos_geometricos/117=w1817-h1080.jpg',\n",
       " 'http://localhost:8080/images/abstratos_geometricos/136=w1920-h931.jpg',\n",
       " 'http://localhost:8080/images/abstratos_geometricos/107=w1920-h969.jpg',\n",
       " 'http://localhost:8080/images/abstratos_geometricos/121=w1841-h1080.jpg',\n",
       " 'http://localhost:8080/images/abstratos_geometricos/129=w1920-h949.jpg',\n",
       " 'http://localhost:8080/images/ambientes_decorados/40=w1620-h1080.jpg',\n",
       " 'http://localhost:8080/images/ambientes_decorados/185=w1454-h1080.jpg',\n",
       " 'http://localhost:8080/images/ambientes_decorados/2=w1620-h1080.jpg',\n",
       " 'http://localhost:8080/images/ambientes_decorados/113=w1440-h1080.jpg',\n",
       " 'http://localhost:8080/images/ambientes_decorados/180=w1619-h1080.jpg',\n",
       " 'http://localhost:8080/images/ambientes_decorados/199=w1080-h1080.jpg',\n",
       " 'http://localhost:8080/images/ambientes_decorados/192=w720-h1080.jpg',\n",
       " 'http://localhost:8080/images/ambientes_decorados/53=w1080-h1080.jpg',\n",
       " 'http://localhost:8080/images/ambientes_decorados/22=w1920-h1080.jpg',\n",
       " 'http://localhost:8080/images/ambientes_decorados/151=w1698-h1080.jpg',\n",
       " 'http://localhost:8080/images/ambientes_decorados/51=w809-h1080.jpg',\n",
       " 'http://localhost:8080/images/ambientes_decorados/35=w718-h1080.jpg',\n",
       " 'http://localhost:8080/images/ambientes_decorados/42=w1117-h1080.jpg',\n",
       " 'http://localhost:8080/images/ambientes_decorados/49=w1619-h1080.jpg',\n",
       " 'http://localhost:8080/images/ambientes_decorados/13=w1080-h1920.jpg',\n",
       " 'http://localhost:8080/images/ambientes_decorados/177=w878-h1080.jpg',\n",
       " 'http://localhost:8080/images/ambientes_decorados/153=w864-h1080.jpg',\n",
       " 'http://localhost:8080/images/ambientes_decorados/188=w715-h1080.jpg',\n",
       " 'http://localhost:8080/images/ambientes_decorados/208=w1615-h1080.jpg',\n",
       " 'http://localhost:8080/images/ambientes_decorados/37=w1623-h1080.jpg',\n",
       " 'http://localhost:8080/images/ambientes_decorados/197=w720-h1080.jpg',\n",
       " 'http://localhost:8080/images/ambientes_decorados/181=w1080-h1080.jpg',\n",
       " 'http://localhost:8080/images/ambientes_decorados/36=w834-h1080.jpg',\n",
       " 'http://localhost:8080/images/ambientes_decorados/190=w1006-h1080.jpg',\n",
       " 'http://localhost:8080/images/ambientes_decorados/312=w1080-h1080.jpg',\n",
       " 'http://localhost:8080/images/ambientes_decorados/92=w1512-h1080.jpg',\n",
       " 'http://localhost:8080/images/ambientes_decorados/311=w750-h1000.jpg',\n",
       " 'http://localhost:8080/images/ambientes_decorados/179=w1440-h1080.jpg',\n",
       " 'http://localhost:8080/images/ambientes_decorados/1=w1078-h1080.jpg',\n",
       " 'http://localhost:8080/images/ambientes_decorados/45=w1620-h1080.jpg']"
      ]
     },
     "execution_count": 35,
     "metadata": {},
     "output_type": "execute_result"
    }
   ],
   "source": [
    "images = glob(\"images/*/*.jpg\",recursive=True)\n",
    "images = [\"http://localhost:8080/\"+img for img in images if img.find(\"thumb\")==-1]\n",
    "images"
   ]
  },
  {
   "cell_type": "code",
   "execution_count": 27,
   "metadata": {},
   "outputs": [
    {
     "data": {
      "text/plain": [
       "'images/esculturas_de_parede/94=w1440-h1080.jpg'"
      ]
     },
     "execution_count": 27,
     "metadata": {},
     "output_type": "execute_result"
    }
   ],
   "source": []
  },
  {
   "cell_type": "code",
   "execution_count": null,
   "metadata": {
    "collapsed": true
   },
   "outputs": [],
   "source": []
  }
 ],
 "metadata": {
  "kernelspec": {
   "display_name": "Python 3",
   "language": "python",
   "name": "python3"
  },
  "language_info": {
   "codemirror_mode": {
    "name": "ipython",
    "version": 3
   },
   "file_extension": ".py",
   "mimetype": "text/x-python",
   "name": "python",
   "nbconvert_exporter": "python",
   "pygments_lexer": "ipython3",
   "version": "3.6.3"
  }
 },
 "nbformat": 4,
 "nbformat_minor": 2
}
